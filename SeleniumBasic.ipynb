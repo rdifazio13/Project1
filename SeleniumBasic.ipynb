{
 "cells": [
  {
   "cell_type": "code",
   "execution_count": 1,
   "id": "aa3d6895-fa85-40c7-9b19-b8288775a023",
   "metadata": {},
   "outputs": [],
   "source": [
    "#introduce for loop to loop through all the websites and use functions to catalogue the button clicks\n",
    "from selenium.webdriver.chrome.service import Service\n",
    "from selenium.webdriver.chrome.options import Options\n",
    "from selenium.webdriver.common.keys import Keys\n",
    "from selenium.webdriver.common.by import By\n",
    "from selenium import webdriver"
   ]
  },
  {
   "cell_type": "code",
   "execution_count": 2,
   "id": "3cc7a5d1-f9ee-446b-96a1-31bbb0c081b6",
   "metadata": {},
   "outputs": [],
   "source": [
    "op = webdriver.ChromeOptions()"
   ]
  },
  {
   "cell_type": "code",
   "execution_count": 3,
   "id": "8b637ae5-2cfb-44c0-b8d3-5733f333c35d",
   "metadata": {},
   "outputs": [],
   "source": [
    "prefs = {\"download.default_directory\" : r'C:\\Users\\Bum Rush\\project1\\Data\\\\',\n",
    "         \"profile.default_content_settings.popups\": 0,\n",
    "         \"directory_upgrade\": True\n",
    "        }\n",
    "op.add_experimental_option('prefs',prefs)"
   ]
  },
  {
   "cell_type": "code",
   "execution_count": 4,
   "id": "fb90d316-e944-4373-9d18-e537d3b1b0f6",
   "metadata": {},
   "outputs": [],
   "source": [
    "ser = Service(\"C:/Users/Bum Rush/AppData/Local/SeleniumBasic/chromedriver.exe\")"
   ]
  },
  {
   "cell_type": "code",
   "execution_count": 5,
   "id": "34600906-1858-4b80-9a60-6fc3069d80ae",
   "metadata": {},
   "outputs": [],
   "source": [
    "driver = webdriver.Chrome(service=ser, options=op)"
   ]
  },
  {
   "cell_type": "code",
   "execution_count": 6,
   "id": "c117057e-a4b6-48c5-b4e6-ccda3ece96eb",
   "metadata": {},
   "outputs": [],
   "source": [
    "driver.get(\"https://data.sfgov.org/Public-Safety/Police-Department-Incident-Reports-2018-to-Present/wg3w-h783\")"
   ]
  },
  {
   "cell_type": "code",
   "execution_count": 7,
   "id": "8d9195a8-9bf7-4901-ac72-672be99fdf3a",
   "metadata": {},
   "outputs": [],
   "source": [
    "driver.find_element(By.XPATH,\"//button[contains(text(),'Export')]\").click()"
   ]
  },
  {
   "cell_type": "code",
   "execution_count": 8,
   "id": "3546ab40-2e6f-46dc-8341-df5e6784af37",
   "metadata": {},
   "outputs": [],
   "source": [
    "driver.find_element(By.XPATH,\"//body/main[@id='content']/div[1]/div[1]/div[1]/div[1]/div[1]/div[1]/div[1]/div[1]/div[2]/div[1]/div[2]/div[1]/section[1]/ul[1]/li[1]/a[1]\").click()"
   ]
  }
 ],
 "metadata": {
  "kernelspec": {
   "display_name": "Python 3 (ipykernel)",
   "language": "python",
   "name": "python3"
  },
  "language_info": {
   "codemirror_mode": {
    "name": "ipython",
    "version": 3
   },
   "file_extension": ".py",
   "mimetype": "text/x-python",
   "name": "python",
   "nbconvert_exporter": "python",
   "pygments_lexer": "ipython3",
   "version": "3.7.11"
  }
 },
 "nbformat": 4,
 "nbformat_minor": 5
}
