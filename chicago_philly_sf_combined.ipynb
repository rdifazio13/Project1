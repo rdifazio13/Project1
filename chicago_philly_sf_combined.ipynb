{
 "cells": [
  {
   "cell_type": "markdown",
   "id": "f916979d-7f94-4f7e-b37b-5327b8d174d5",
   "metadata": {},
   "source": [
    "# Prerequisites"
   ]
  },
  {
   "cell_type": "markdown",
   "id": "ec0d99d1-8be6-42a8-ac37-f2f730dad81c",
   "metadata": {},
   "source": [
    "### Installs You May Need (if not installed already)"
   ]
  },
  {
   "cell_type": "markdown",
   "id": "5ae3cc20-4edf-4dec-9941-07b8499bd2b8",
   "metadata": {},
   "source": [
    "Run the following in terminal:\n",
    "* pip install jupyter-dash\n",
    "\n",
    "* Ensure you have all 3 data sets in the Data folder as well as the Chicago Population CSV file"
   ]
  },
  {
   "cell_type": "code",
   "execution_count": null,
   "id": "8150a057-5517-4c35-80cc-ec40fad37fb7",
   "metadata": {},
   "outputs": [],
   "source": [
    "# Import libraries and dependencies\n",
    "import panel as pn\n",
    "pn.extension('plotly')\n",
    "import pandas as pd\n",
    "import seaborn as sns\n",
    "import matplotlib.pyplot as plt\n",
    "import numpy as np\n",
    "import hvplot.pandas\n",
    "from panel.interact import interact\n",
    "import plotly.express as px\n",
    "import dash\n",
    "from dash import dcc\n",
    "from dash.dependencies import Input, Output\n",
    "from dash import html\n",
    "from jupyter_dash import JupyterDash\n",
    "import os\n",
    "from pathlib import Path\n",
    "from dotenv import load_dotenv"
   ]
  },
  {
   "cell_type": "markdown",
   "id": "18c15175-e263-41f5-9a7a-a03b6e1a809e",
   "metadata": {},
   "source": [
    "# 1) Data Exploration"
   ]
  },
  {
   "cell_type": "code",
   "execution_count": null,
   "id": "8b3f5c98-15f4-4314-9ffa-a79b9789722a",
   "metadata": {},
   "outputs": [],
   "source": [
    "# Change folder path depending on where you are placing these files\n",
    "# import Chicagos data\n",
    "chicago = pd.read_csv(r'..\\Data\\Crimes_-_2001_to_Present.csv')\n",
    "chicago_pop = pd.read_csv(r'..\\Data\\Chicago Population.csv')\n",
    "\n",
    "# import San Fran data\n",
    "san_fran = pd.read_csv(r'..\\Data\\Police_Department_Incident_Reports__2018_to_Present.csv')\n",
    "\n",
    "# import philly data\n",
    "philly = pd.read_csv(r'..\\Data\\incidents_part1_part2.csv')"
   ]
  },
  {
   "cell_type": "code",
   "execution_count": null,
   "id": "9ed33cc3-1bc1-40ac-8ba9-23088d66b6b2",
   "metadata": {},
   "outputs": [],
   "source": [
    "# Get a view of chicago data\n",
    "chicago.head()"
   ]
  },
  {
   "cell_type": "code",
   "execution_count": null,
   "id": "03148043-4407-45ef-82ca-a828791ae8b5",
   "metadata": {},
   "outputs": [],
   "source": [
    "# View unique columns, and get a tally\n",
    "chicago.count()"
   ]
  },
  {
   "cell_type": "code",
   "execution_count": null,
   "id": "c2751259-ee28-473c-a5a9-005f278df7c2",
   "metadata": {},
   "outputs": [],
   "source": [
    "# View unique values in a column (Year)\n",
    "chicago.Year.unique()"
   ]
  },
  {
   "cell_type": "code",
   "execution_count": null,
   "id": "6524e060-0080-4e3a-b9a5-40b963ebfc52",
   "metadata": {},
   "outputs": [],
   "source": [
    "# View unique values in a column (Primary Type)\n",
    "chicago['Primary Type'].unique()"
   ]
  },
  {
   "cell_type": "code",
   "execution_count": null,
   "id": "f7f6c383-fe75-4c53-adf3-1f517504e193",
   "metadata": {},
   "outputs": [],
   "source": [
    "chicago['Location Description'].unique()"
   ]
  },
  {
   "cell_type": "code",
   "execution_count": null,
   "id": "b360593b-9a36-4aad-a5da-c5e932fe9336",
   "metadata": {},
   "outputs": [],
   "source": [
    "# View San Fran data\n",
    "san_fran.head()"
   ]
  },
  {
   "cell_type": "code",
   "execution_count": null,
   "id": "0121624f-a1f2-46c4-a5b8-ecc32ede78a4",
   "metadata": {},
   "outputs": [],
   "source": [
    "# View unique columns, and get a tally\n",
    "san_fran.count()"
   ]
  },
  {
   "cell_type": "code",
   "execution_count": null,
   "id": "240c7535-e238-491e-b286-2a5b40b98b0e",
   "metadata": {},
   "outputs": [],
   "source": [
    "# View unique values in a column (Year)\n",
    "san_fran['Incident Category'].unique()"
   ]
  },
  {
   "cell_type": "code",
   "execution_count": null,
   "id": "892f0acd-dc74-43a3-9e6c-57fab60cab1f",
   "metadata": {},
   "outputs": [],
   "source": [
    "# View Philly data\n",
    "philly.head()"
   ]
  },
  {
   "cell_type": "code",
   "execution_count": null,
   "id": "d9109a0d-baff-49c0-8634-789426f13e5f",
   "metadata": {},
   "outputs": [],
   "source": [
    "# View unique header and count\n",
    "philly.count()"
   ]
  },
  {
   "cell_type": "code",
   "execution_count": null,
   "id": "3415f91e-0d21-431d-ac4a-d6a00f086db0",
   "metadata": {},
   "outputs": [],
   "source": [
    "# View unique values in a column (Year)\n",
    "philly['text_general_code'].unique()"
   ]
  },
  {
   "cell_type": "markdown",
   "id": "90103146-b137-4d99-8578-b8ddac7ae7dc",
   "metadata": {},
   "source": [
    "# 2) Data Cleanup, Filtering, and Visualization/Observations"
   ]
  },
  {
   "cell_type": "code",
   "execution_count": null,
   "id": "8fc94ac7-9b00-48a8-bb7a-feeb712f05a8",
   "metadata": {},
   "outputs": [],
   "source": [
    "# Filter and sort data chicago data\n",
    "\n",
    "# Rename column (to allow dataframe.column formatting\n",
    "chicago = chicago.rename(columns={\"Primary Type\": \"Primary_Type\"})\n",
    "\n",
    "# Filter for 2015 through today\n",
    "chicago = chicago.loc[(chicago['Year'] >= 2015) & (chicago['Year'] < 2022)]\n",
    "\n",
    "# Sort by year and check year for years filtered in above line\n",
    "chicago = chicago.sort_values(by=['Year'])\n",
    "chicago.Year.unique()"
   ]
  },
  {
   "cell_type": "code",
   "execution_count": null,
   "id": "aa7cb392-0c28-4364-8bf9-b3b9afea76ca",
   "metadata": {},
   "outputs": [],
   "source": [
    "# Filter Chicago dataframe for top 10 crime since 2015\n",
    "chicago_crime = chicago[['Year','Primary_Type']]\n",
    "chicago_crime.tail()"
   ]
  },
  {
   "cell_type": "code",
   "execution_count": null,
   "id": "1cdda7d1-8704-4b54-b2af-67d80c3b5707",
   "metadata": {},
   "outputs": [],
   "source": [
    "# Filter Chicago dataframe for top 10 crime since 2015\n",
    "chicago_crime = chicago[['Year','Primary_Type']]\n",
    "chicago_top_ten = chicago_crime['Primary_Type'].value_counts().head(10).reset_index()\n",
    "chicago_top_ten = chicago_top_ten.rename(columns={\"Primary_Type\": \"Crime_Count\",\"index\": \"Crime\"})\n",
    "chicago_top_ten.head(10)"
   ]
  },
  {
   "cell_type": "code",
   "execution_count": null,
   "id": "eb311054-4dd9-443b-9e78-4fb97dfed9bd",
   "metadata": {},
   "outputs": [],
   "source": [
    "# Filter chicago_crime data frame to get only data of top ten crimes\n",
    "crimelist = chicago_top_ten['Crime'].tolist() # create a list storing top 10 in a list\n",
    "boolean_series = chicago_crime.Primary_Type.isin(crimelist) # See if crime in the df, we will reuse crimelist in \n",
    "top_10_chicago_df = chicago_crime[boolean_series] # Apply the series\n",
    "top_10_chicago_df.Primary_Type.unique()"
   ]
  },
  {
   "cell_type": "code",
   "execution_count": null,
   "id": "6ba261d3-df3b-4fee-9bc9-e3d6e937c994",
   "metadata": {},
   "outputs": [],
   "source": [
    "# Pivot the data, indexed on Year, showing Primary Type, and getting a count\n",
    "top_10_df  = top_10_chicago_df.pivot_table(index=\"Year\",\n",
    "columns=\"Primary_Type\",\n",
    "aggfunc=len,\n",
    "fill_value=0)\n",
    "top_10_df"
   ]
  },
  {
   "cell_type": "code",
   "execution_count": null,
   "id": "b7db15cc-30e3-43d2-ad28-445995dd23b6",
   "metadata": {},
   "outputs": [],
   "source": [
    "# Filter Chicago population data for > 2015\n",
    "chicago_pop = chicago_pop.loc[(chicago_pop['Year'] >= 2015)]\n",
    "chicago_pop = chicago_pop.drop(['Change %'], axis=1)\n",
    "chicago_pop = chicago_pop.set_index('Year')\n",
    "chicago_pop.plot.line(figsize=(20,7),title='Chicago Pop')"
   ]
  },
  {
   "cell_type": "code",
   "execution_count": null,
   "id": "d993d201-74ad-4981-8321-23bfb9a40b1a",
   "metadata": {},
   "outputs": [],
   "source": [
    "top_10_df.plot.line(figsize=(20,7),title='Top Ten Crime Count')"
   ]
  },
  {
   "cell_type": "markdown",
   "id": "f73fa275-866b-4a31-8e8f-98ec159790b0",
   "metadata": {},
   "source": [
    "### Observations from above visuals:\n",
    "* From this view is the clear drop in thefts beginning early from 2019. \n",
    "* Criminal Damages in red, is fairly flat since 2015 in the count of arrests made. \n",
    "* Other categories such as narcotics, robbery, or total crimes that are below 30000 are not as pronounced.\n",
    "* In 2019, population was still increasing, [Chicago’s downtown was witnessing unprecedented growth — both in population and construction activity. Dozens of high-rises were being built at a time, adding thousands of rental units and hotel rooms to the city each year. And despite the downturn caused by the pandemic, Chicago’s Loop and broader central business district is still the fastest growing neighborhood in the city, and the fastest growing downtown in the nation, a report from the Chicago Loop Alliance suggests.](https://rejournals.com/chicagos-downtown-still-fastest-growing-in-country-report-says/#:~:text=In%20terms%20of%20raw%20numbers,growing%20community%20within%20the%20city.)\n"
   ]
  },
  {
   "cell_type": "code",
   "execution_count": null,
   "id": "d7210fc4-5826-4bf7-8d47-c6fbfb3ce127",
   "metadata": {},
   "outputs": [],
   "source": [
    "# Using hvplot to demonstrate the same plot, but now dynamically filterable\n",
    "top_10_linechart = top_10_df.hvplot(width=1100, height=400)\n",
    "top_10_linechart"
   ]
  },
  {
   "cell_type": "code",
   "execution_count": null,
   "id": "560a17f8-de79-4a72-881b-8982bd91b583",
   "metadata": {},
   "outputs": [],
   "source": [
    "# Calculate % Change\n",
    "top10_pct_change = top_10_df.pct_change()\n",
    "top10_pct_change"
   ]
  },
  {
   "cell_type": "code",
   "execution_count": null,
   "id": "c4bfdad7-0cc2-466b-9b4a-4572dadd1d7b",
   "metadata": {},
   "outputs": [],
   "source": [
    "# Remove 2015 showing NaN with syntax of iloc df.iloc[row_start:row_end , col_start, col_end]\n",
    "top10_pct_change = top10_pct_change.iloc[1: , :]\n",
    "top10_pct_change"
   ]
  },
  {
   "cell_type": "code",
   "execution_count": null,
   "id": "687cd7a9-b59c-455e-ac9e-18df7ab67a23",
   "metadata": {},
   "outputs": [],
   "source": [
    "#Plot % change using Pandas .plot.line\n",
    "top10df = top10_pct_change.plot.line(figsize=(20,7),title='Percent Change Top Ten Crime Types')\n",
    "top10df"
   ]
  },
  {
   "cell_type": "code",
   "execution_count": null,
   "id": "81ba7628-3630-4647-ba68-e2b444e344f4",
   "metadata": {},
   "outputs": [],
   "source": [
    "# Same plot with hvplot\n",
    "top10df = top10_pct_change.hvplot(width=1100, height=400)\n",
    "top10df"
   ]
  },
  {
   "cell_type": "code",
   "execution_count": null,
   "id": "8f335a7b-8aaa-4c3b-a2d0-9ec39fad6bf2",
   "metadata": {},
   "outputs": [],
   "source": [
    "# Same plot with plotly express\n",
    "pct_change_chicago_crime = px.line(top10_pct_change, x=top10_pct_change.index, y=crimelist, \n",
    "              title='Percent Change Top 10 Crimes')\n",
    "pct_change_chicago_crime.update_yaxes(title_text='% Change')\n",
    "pct_change_chicago_crime.show()"
   ]
  },
  {
   "cell_type": "markdown",
   "id": "bd254946-0509-4fba-a608-77f85e3e7100",
   "metadata": {},
   "source": [
    "### Observations from above visual\n",
    "Drops in types of crime beginning covid:\n",
    "* Theft\n",
    "* Assault\n",
    "* ‘Other Offenses’\n",
    "* Battery\n",
    "* Narcotics\n",
    "\n",
    "Rises in types of crimes after covid:\n",
    "* Motor Vehicle Theft\n",
    "* Robbery\n",
    "* Burglary\n",
    "\n",
    "To validate these findings: [ecofact.org notes:] (https://econofact.org/crime-in-the-time-of-covid)\n",
    "- Home burglaries dropped, while commercial burglaries and car thefts rose. \n",
    "- Drug crimes dropped the most — by 65% — at the pandemic onset and fell again during the summer. Drug crimes saw the biggest decline of any category at the onset of the pandemic in almost all cities for which I have data – 65% on average. \n",
    "\n",
    "One of the clearest observable anomalies is Narcotics, affected by Covid as noted by [CWBChicago](https://cwbchicago.com/2020/03/arrests-plummet-crime-nosedives-in-early-days-of-covid-19.html), who cover local police data in chicago:\n",
    "\n",
    "“Interim Police Supt. Charlie Beck yesterday said officers are stopping fewer pedestrians and drivers. And their “hands off” approach is driving CPD arrest numbers to possibly historic lows.”\n",
    "\n",
    "\n",
    "\n",
    "\n"
   ]
  },
  {
   "cell_type": "code",
   "execution_count": null,
   "id": "48cfad58-106d-4028-9fff-e49ed71fcc90",
   "metadata": {},
   "outputs": [],
   "source": [
    "# Calculate the correlation between crimes\n",
    "correlation = top10_pct_change.corr()\n",
    "correlation"
   ]
  },
  {
   "cell_type": "code",
   "execution_count": null,
   "id": "5d7e486d-6d40-406c-b418-b0d6dc4a917d",
   "metadata": {},
   "outputs": [],
   "source": [
    "#Creating a correlation matrix using plotly express and only color those with correlation > .7\n",
    "corr_map = px.imshow(round(correlation,2),\n",
    "               text_auto=True,\n",
    "               aspect='auto',\n",
    "               color_continuous_scale='magma',\n",
    "               zmin=0.7,\n",
    "               zmax=1,\n",
    "               width=700,\n",
    "               height=600)\n",
    "\n",
    "# Set the visibility of both axis to none to hide axis title, change the x axis angle,and show plot\n",
    "corr_map.update_yaxes(title=None, showticklabels=True).update_xaxes(title=None, showticklabels=True).update_xaxes(tickangle=90)"
   ]
  },
  {
   "cell_type": "markdown",
   "id": "8de145cd-034f-4758-9fa9-bd570aaf36e1",
   "metadata": {},
   "source": [
    "### Observations from above visual\n",
    "Types of crime that show a correlation in occurence\n",
    "* Assault & Theft\n",
    "* Assault & Battery\n",
    "* Robbery & Motor Vehicle theft\n",
    "* Burglary & Deceptive Practice"
   ]
  },
  {
   "cell_type": "code",
   "execution_count": null,
   "id": "ce69776f-616e-46d8-84e6-98f6ab0fd9dd",
   "metadata": {},
   "outputs": [],
   "source": [
    "# Filter for thefts\n",
    "df_theft = chicago[(chicago[\"Primary_Type\"]==\"THEFT\")]\n",
    "df_theft = df_theft.sort_values(by=['Year'], ascending=True)\n",
    "\n",
    "# Filter where the porch thief swiped the goods\n",
    "boolean_series = df_theft['Location Description'].isin(['RESIDENTIAL YARD (FRONT/BACK)','DRIVEWAY - RESIDENTIAL','RESIDENCE PORCH/HALLWAY','RESIDENCE - PORCH / HALLWAY','RESIDENCE - YARD (FRONT / BACK)'])\n",
    "porch_pirates_df = df_theft[boolean_series]\n",
    "porch_pirates_df.sort_index().head(10)\n",
    "df_theft.head()"
   ]
  },
  {
   "cell_type": "code",
   "execution_count": null,
   "id": "5b89fcc5-2354-4fc3-a3f5-ac2645004f08",
   "metadata": {},
   "outputs": [],
   "source": [
    "# Read the Mapbox API key, note it should be stored in an .env file where the variable is named 'access_token' and stores your key\n",
    "# for example access_token = pk.whatever_is_your_token_id\n",
    "load_dotenv()\n",
    "map_box_api = os.getenv(\"access_token\")\n",
    "\n",
    "# Set the Mapbox API\n",
    "px.set_mapbox_access_token(map_box_api)"
   ]
  },
  {
   "cell_type": "code",
   "execution_count": null,
   "id": "9929350a-4081-464d-a21a-12e4bc3b66a5",
   "metadata": {},
   "outputs": [],
   "source": [
    "# Plot where the thieves struck on map using mapbox, and have an animation frame to show years\n",
    "map_porch_pirates = px.scatter_mapbox(\n",
    "    porch_pirates_df,\n",
    "    lat=\"Latitude\",\n",
    "    lon=\"Longitude\",\n",
    "    color=\"Description\",\n",
    "    animation_frame=\"Year\",\n",
    "    height = 600,\n",
    "    width = 900,\n",
    "    zoom=9\n",
    ")\n",
    "\n",
    "# Display the map\n",
    "map_porch_pirates.show()"
   ]
  },
  {
   "cell_type": "code",
   "execution_count": null,
   "id": "82ba42a4-4362-4917-a992-509395ff1c87",
   "metadata": {},
   "outputs": [],
   "source": [
    "# Filter and Frame San Fran Data"
   ]
  },
  {
   "cell_type": "code",
   "execution_count": null,
   "id": "e60b817a-799c-499c-bdc2-99e6e7689b24",
   "metadata": {},
   "outputs": [],
   "source": [
    "# Rename Columns\n",
    "san_fran = san_fran.rename(columns={\"Incident Category\": \"Incident_Category\"})\n",
    "san_fran = san_fran.rename(columns={\"Incident Year\": \"Year\"})\n",
    "\n",
    "# Filter the Data for Years wanted\n",
    "san_fran = san_fran.loc[(san_fran['Year'] >= 2018) & (san_fran['Year'] < 2022)] \n",
    "san_fran_crime = san_fran[['Year','Incident_Category']]\n",
    "\n",
    "# Count of Incident\n",
    "san_fran_top_ten = san_fran_crime['Incident_Category'].value_counts().head(10).reset_index()\n",
    "san_fran_top_ten = san_fran_top_ten.rename(columns={\"Incident_Category\": \"Crime_Count\",\"index\": \"Crime\"})\n",
    "san_fran_crimelist = san_fran_top_ten['Crime'].tolist()\n",
    "san_fran_boolean_series = san_fran_crime.Incident_Category.isin(san_fran_crimelist)\n",
    "top_10_san_fran_df = san_fran_crime[san_fran_boolean_series]\n",
    "\n",
    "# Pivot data\n",
    "san_fran_top_10_df  = top_10_san_fran_df.pivot_table(index=\"Year\",\n",
    "columns=\"Incident_Category\",\n",
    "aggfunc=len,\n",
    "fill_value=0)"
   ]
  },
  {
   "cell_type": "code",
   "execution_count": null,
   "id": "675f1e6b-4ed8-42d7-9228-b5d9fe036e73",
   "metadata": {},
   "outputs": [],
   "source": [
    "san_fran_top_10_df.plot.line(figsize=(20,7),title='Top Ten Crime Count')"
   ]
  },
  {
   "cell_type": "code",
   "execution_count": null,
   "id": "34ce777a-b01e-4c33-a0db-3829f001d3a6",
   "metadata": {},
   "outputs": [],
   "source": [
    "# Plot of the percent change\n",
    "san_fran_top10_pct_change = san_fran_top_10_df.pct_change()\n",
    "\n",
    "# Syntax of iloc df.iloc[row_start:row_end , col_start, col_end]\n",
    "san_fran_top10_pct_change = san_fran_top10_pct_change.iloc[1: , :]\n",
    "san_fran_top10_pct_change\n",
    "\n",
    "# Plot top ten Categories in San Fran\n",
    "san_fran_top10_pct_change.plot.line(figsize=(20,7),title='Percent Change in Top Ten Crimes')"
   ]
  },
  {
   "cell_type": "code",
   "execution_count": null,
   "id": "4b3a32f4-f7d6-44ee-aa44-317904901a7e",
   "metadata": {},
   "outputs": [],
   "source": [
    "# Same plot with plotly express\n",
    "pct_change_chicago_sf = px.line(san_fran_top10_pct_change, x=san_fran_top10_pct_change.index, y=san_fran_crimelist, \n",
    "              title='Percent Change Top 10 Crimes')\n",
    "pct_change_chicago_sf.update_yaxes(title_text='% Change')\n",
    "pct_change_chicago_sf.show()"
   ]
  },
  {
   "cell_type": "code",
   "execution_count": null,
   "id": "2830a6c0-ac99-40c4-affa-6c5bb6fb6166",
   "metadata": {},
   "outputs": [],
   "source": [
    "# Calculate the correlation between each column\n",
    "correlationsf = san_fran_top10_pct_change.corr()\n",
    "correlationsf"
   ]
  },
  {
   "cell_type": "code",
   "execution_count": null,
   "id": "c18d238f-c119-4601-88c3-cfe75bbf6c15",
   "metadata": {},
   "outputs": [],
   "source": [
    "# Use the `heatmap` function from the Seaborn library to visualize correlations\n",
    "san_fran_heat_map= px.imshow(round(correlationsf,2),\n",
    "               text_auto=True,\n",
    "               aspect='auto',\n",
    "               color_continuous_scale='magma',\n",
    "               zmin=0.7,\n",
    "               zmax=1,\n",
    "               width=700,\n",
    "               height=600)\n",
    "\n",
    "# Set the visibility of both axis to none to hide axis title, change the x axis angle,and show plot\n",
    "san_fran_heat_map.update_yaxes(title=None, showticklabels=True).update_xaxes(title=None, showticklabels=True).update_xaxes(tickangle=90)\n",
    "san_fran_heat_map"
   ]
  },
  {
   "cell_type": "code",
   "execution_count": null,
   "id": "93779c3d-b58c-4f80-a09b-bceca0b5121f",
   "metadata": {},
   "outputs": [],
   "source": [
    "# Filter for thefts\n",
    "df_theft = san_fran[(san_fran[\"Incident_Category\"]==\"Larceny Theft\") | (san_fran[\"Incident_Category\"]==\"Burglary\")]\n",
    "df_theft = df_theft.sort_values(by=['Year'], ascending=True)\n",
    "boolean_series = df_theft['Incident Subcategory'].isin(['Larceny - Auto Parts','Larceny Theft - Bicycle','Larceny Theft - From Building','Larceny Theft - Other', 'Burglary - Residential'])\n",
    "san_fran_porch_pirates_df = df_theft[boolean_series]\n",
    "san_fran_porch_pirates_df.sort_index().head(10)\n",
    "\n",
    "san_fran_map_porch_pirates = px.scatter_mapbox(\n",
    "    san_fran_porch_pirates_df,\n",
    "    lat=\"Latitude\",\n",
    "    lon=\"Longitude\",\n",
    "    color=\"Incident Subcategory\",\n",
    "    animation_frame=\"Year\",\n",
    "    height = 800,\n",
    "    width = 900,\n",
    "    zoom=10\n",
    ")\n",
    "\n",
    "\n",
    "# Set the visibility of both axis to none to hide axis title, change the x axis angle,and show plot\n",
    "\n",
    "san_fran_map_porch_pirates.show()"
   ]
  },
  {
   "cell_type": "code",
   "execution_count": null,
   "id": "5aec32f4-9e98-4ae9-95b8-9adf4ceee888",
   "metadata": {},
   "outputs": [],
   "source": [
    "# Bring in philly data\n",
    "philly = philly.rename(columns={\"text_general_code\": \"general_code\"})\n",
    "philly = philly.rename(columns={\"dispatch_date\": \"Year\"})\n",
    "philly = philly.drop(columns={\"the_geom\"})\n",
    "philly = philly.drop(columns={\"the_geom_webmercator\"})\n",
    "philly=philly[(philly['Year'] >= '2015-01-01') & (philly['Year'] <= '2021-12-31')]\n",
    "philly_crime = philly[['Year','general_code']]\n",
    "philly_top_ten = philly_crime['general_code'].value_counts().head(10).reset_index()\n",
    "philly_top_ten = philly_top_ten.rename(columns={\"general_code\": \"Crime_Count\",\"index\": \"Crime\"})\n",
    "crimelist_philly = philly_top_ten['Crime'].tolist()\n",
    "boolean_series_philly = philly_crime.general_code.isin(crimelist_philly)\n",
    "top_10_philly_df = philly_crime[boolean_series_philly]\n",
    "top_10_df  = top_10_philly_df.pivot_table(index=\"Year\",\n",
    "columns=\"general_code\",\n",
    "aggfunc=len,\n",
    "fill_value=0)"
   ]
  },
  {
   "cell_type": "code",
   "execution_count": null,
   "id": "25328901-82b2-46f7-813e-6a5aee51a261",
   "metadata": {},
   "outputs": [],
   "source": [
    "top_10_df.plot.line(figsize=(20,7),title='Top Ten Crime Count')"
   ]
  },
  {
   "cell_type": "code",
   "execution_count": null,
   "id": "d5266e86-749b-43ba-a911-2c7e8e89cefe",
   "metadata": {},
   "outputs": [],
   "source": [
    "# plot of % change\n",
    "top10_pct_change = top_10_df.pct_change()\n",
    "top10_pct_change = top10_pct_change.iloc[1: , :]\n",
    "\n",
    "# Plot Perecent Change Top 10 Crimes\n",
    "pct_change_chicago_philly = px.line(top10_pct_change, x=top10_pct_change.index, y=crimelist_philly, \n",
    "              title='Percent Change Top 10 Crimes')\n",
    "pct_change_chicago_philly.update_yaxes(title_text='% Change')\n",
    "pct_change_chicago_philly.show()"
   ]
  },
  {
   "cell_type": "code",
   "execution_count": null,
   "id": "c4083234-74ec-4edd-b637-11d065736e3a",
   "metadata": {},
   "outputs": [],
   "source": [
    "# correlation between each column\n",
    "correlation_philly = top10_pct_change.corr()\n",
    "correlation_philly"
   ]
  },
  {
   "cell_type": "code",
   "execution_count": null,
   "id": "007e7ed2-b04f-4f9e-9f19-9d23ce3e20be",
   "metadata": {},
   "outputs": [],
   "source": [
    "philly_heat_map = px.imshow(round(correlation_philly,2),\n",
    "               text_auto=True,\n",
    "               aspect='auto',\n",
    "               color_continuous_scale='magma',\n",
    "               zmin=0.1,\n",
    "               zmax=0.8,\n",
    "               width=700,\n",
    "               height=600)\n",
    "\n",
    "# Set the visibility of both axis to none to hide axis title, change the x axis angle,and show plot\n",
    "philly_heat_map.update_yaxes(title=None, showticklabels=True).update_xaxes(title=None, showticklabels=True).update_xaxes(tickangle=90)\n",
    "philly_heat_map"
   ]
  },
  {
   "cell_type": "code",
   "execution_count": null,
   "id": "3cc40744-e892-4d74-9566-440a7ec431c4",
   "metadata": {},
   "outputs": [],
   "source": [
    "# Filter for Thefts in Philadelphia and display \n",
    "df_theft = philly[(philly[\"general_code\"]==\"Thefts\")]\n",
    "df_theft = df_theft.sort_values(by=['Year'], ascending=True)\n",
    "porch_pirates_philly = df_theft[boolean_series_philly]\n",
    "porch_pirates_philly.sort_index()\n",
    "\n",
    "# Create Map of Philadelphia thefts\n",
    "map_porch_pirates_philly = px.scatter_mapbox(\n",
    "    porch_pirates_philly,\n",
    "    lat=\"lat\",\n",
    "    lon=\"lng\",\n",
    "    color=\"general_code\",\n",
    "    animation_frame=\"Year\",\n",
    "    height = 800,\n",
    "    width = 900,\n",
    "    zoom=9\n",
    ")\n",
    "map_porch_pirates_philly.show()"
   ]
  },
  {
   "cell_type": "markdown",
   "id": "4147e18b-4d14-405a-a40d-7d666badbe19",
   "metadata": {},
   "source": [
    "# 3) Visual Aggregation"
   ]
  },
  {
   "cell_type": "code",
   "execution_count": null,
   "id": "b69fcb13-8d3c-45d6-a2a4-2978ab43799d",
   "metadata": {},
   "outputs": [],
   "source": [
    "# Create panel tab to display\n",
    "tabs = pn.Tabs(\n",
    "  (\"Correlations of Crimes in Chicago\", corr_map),\n",
    "  (\"Map of Thefts off the 'Porch'\", map_porch_pirates),  # Note, try running animation frame within Panel, the play button will not render, nothing appeaers to update! 1 Solution in Dash shown below.\n",
    "  (\"Percent change YoY\", pct_change_chicago_crime))\n",
    "tabs"
   ]
  },
  {
   "cell_type": "markdown",
   "id": "91afb39b-d736-470a-839c-2ac26969a19c",
   "metadata": {},
   "source": [
    "### One workaround to the above solution for the animation frame not rendering is to use [Dash](https://dash.plotly.com/)."
   ]
  },
  {
   "cell_type": "code",
   "execution_count": null,
   "id": "be622c3f-7d45-4e24-8ff0-6d0b4564dc7b",
   "metadata": {},
   "outputs": [],
   "source": [
    "# Set the dash instance\n",
    "app = JupyterDash(__name__)\n",
    "\n",
    "# Create the layout of the html\n",
    "\n",
    "app.layout = html.Div([\n",
    "   #Create the dropdown division to select values of one of the 3 cities\n",
    "   html.Div([dcc.Dropdown(id='dropdown1',options=[{'label': 'Chicago', 'value': 'chic'},{'label': 'San Francisco','value': 'sf'}, {'label': 'Philadelphia','value': 'philly'}],value='city',),],style={'width': '90%', 'display': 'inline-block'}),  \n",
    "    html.Div(\n",
    "        [html.Div([html.H3('Map of Porch Piracy'),dcc.Graph(id='g1', figure=map_porch_pirates)]),\n",
    "         html.Div([html.H3('Correlation of Top Ten Crimes'),dcc.Graph(id='g2', figure=corr_map)]),\n",
    "         html.Div([html.H3('Percent Change YoY'),dcc.Graph(id='g3', figure=pct_change_chicago_crime)]),\n",
    "        ])\n",
    "])\n",
    "\n",
    "#return which graph plotted previously for one of the 3 cities depending on the value selected from the dropdown\n",
    "\n",
    "@app.callback(Output('g1', 'figure'),\n",
    "              Input('dropdown1', 'value'))\n",
    "def update_graph_a(value):\n",
    "    if value == 'chic':\n",
    "        figure_a = map_porch_pirates\n",
    "    elif value =='sf':\n",
    "        figure_a = san_fran_map_porch_pirates\n",
    "    elif value =='philly':\n",
    "        figure_a = map_porch_pirates_philly\n",
    "        \n",
    "    else:figure_a = map_porch_pirates\n",
    "    return figure_a\n",
    "\n",
    "@app.callback(Output('g2', 'figure'),\n",
    "              Input('dropdown1', 'value'))\n",
    "def update_graph_b(value):\n",
    "        if value == 'chic':\n",
    "            figure_b = corr_map\n",
    "            \n",
    "        elif value =='sf':\n",
    "            figure_b = san_fran_heat_map\n",
    "            \n",
    "        elif value =='philly':\n",
    "            figure_b = philly_heat_map\n",
    "        else: figure_b = corr_map\n",
    "        return figure_b\n",
    "\n",
    "@app.callback(Output('g3', 'figure'),\n",
    "              Input('dropdown1', 'value'))\n",
    "def update_graph_c(value):\n",
    "        if value == 'chic':\n",
    "            figure_c = pct_change_chicago_crime\n",
    "            \n",
    "        elif value == 'sf':\n",
    "            figure_c = pct_change_chicago_sf\n",
    "        \n",
    "        elif value =='philly':\n",
    "            figure_c = pct_change_chicago_philly\n",
    "        \n",
    "        else: figure_c = pct_change_chicago_crime    \n",
    "        \n",
    "        \n",
    "        return figure_c\n",
    "\n",
    "\n",
    "# Run to show\n",
    "app.run_server(mode=\"inline\")"
   ]
  },
  {
   "cell_type": "code",
   "execution_count": null,
   "id": "ca5c303f-1c68-4418-b937-e51f573f3202",
   "metadata": {},
   "outputs": [],
   "source": []
  }
 ],
 "metadata": {
  "kernelspec": {
   "display_name": "Python 3 (ipykernel)",
   "language": "python",
   "name": "python3"
  },
  "language_info": {
   "codemirror_mode": {
    "name": "ipython",
    "version": 3
   },
   "file_extension": ".py",
   "mimetype": "text/x-python",
   "name": "python",
   "nbconvert_exporter": "python",
   "pygments_lexer": "ipython3",
   "version": "3.7.11"
  }
 },
 "nbformat": 4,
 "nbformat_minor": 5
}
