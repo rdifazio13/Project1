{
 "cells": [
  {
   "cell_type": "code",
   "execution_count": 6,
   "id": "f4b7d395-3c21-46cf-ab6b-0c6cbd1dec41",
   "metadata": {},
   "outputs": [],
   "source": [
    "# In order for below to work download Chrome onto your machine. Once in Chrome check the version of Chrome you are on\n",
    "# You can check the version by by copying and pasting the below line into Chrome:\n",
    "# chrome://settings/help\n",
    "\n",
    "# Next, download chromedriver from the link below for the version of Chrome you are using:\n",
    "# https://chromedriver.chromium.org/downloads\n",
    "# and place the chromdriver.exe file into the  Project1 folder that is from the repository when you download\n",
    "\n",
    "from selenium.webdriver.chrome.service import Service\n",
    "from selenium.webdriver.chrome.options import Options\n",
    "from selenium.webdriver.common.keys import Keys\n",
    "from selenium.webdriver.common.by import By\n",
    "from selenium import webdriver\n",
    "\n",
    "#Setup to add options to Chrome\n",
    "op = webdriver.ChromeOptions()"
   ]
  },
  {
   "cell_type": "code",
   "execution_count": 8,
   "id": "7fe20076-7329-4df2-9396-3918af38429e",
   "metadata": {},
   "outputs": [],
   "source": [
    "# Set the preferences of our Chromedriver (automated browser) options to download directly into the 'Data' folder that is in the Project1 repository\n",
    "prefs = {\"download.default_directory\" : r'C:\\Users\\dspin\\Project1\\Data',\n",
    "         \"profile.default_content_settings.popups\": 0,\n",
    "         \"directory_upgrade\": True\n",
    "        }\n",
    "\n",
    "# Include preferences in the driver we want to open\n",
    "op.add_experimental_option('prefs',prefs)\n",
    "\n",
    "# can set options to be an invisible browser, uncomment the below code\n",
    "# op.add_argument(\"--headless\")\n",
    "\n",
    "# Set path of chromedriver\n",
    "ser = Service('..\\chromedriver.exe')"
   ]
  },
  {
   "cell_type": "code",
   "execution_count": 9,
   "id": "9299dfac-e3ee-4615-8ea6-37c04f0a39ba",
   "metadata": {},
   "outputs": [],
   "source": [
    "# Websites listed as string values to pass into driver.get\n",
    "sf = \"https://data.sfgov.org/Public-Safety/Police-Department-Incident-Reports-2018-to-Present/wg3w-h783\"\n",
    "chicago = \"https://data.cityofchicago.org/api/views/ijzp-q8t2/rows.csv?accessType=DOWNLOAD&amp;api_foundry=true\"\n",
    "philly = \"https://phl.carto.com/api/v2/sql?q=SELECT+*,+ST_Y(the_geom)+AS+lat,+ST_X(the_geom)+AS+lng+FROM+incidents_part1_part2&filename=incidents_part1_part2&format=csv&skipfields=cartodb_id\""
   ]
  },
  {
   "cell_type": "code",
   "execution_count": 10,
   "id": "f9cbf0c6-9178-48b6-ba61-e4487307311b",
   "metadata": {},
   "outputs": [],
   "source": [
    "# Open browsers\n",
    "driver1 = webdriver.Chrome(service=ser, options=op) # san fran\n",
    "driver2 = webdriver.Chrome(service=ser, options=op) # chicago\n",
    "driver3 = webdriver.Chrome(service=ser, options=op) # philly"
   ]
  },
  {
   "cell_type": "code",
   "execution_count": 11,
   "id": "7f8e1c1c-12b1-4008-83fa-791ba8fbe203",
   "metadata": {},
   "outputs": [],
   "source": [
    "# Load San Franciscos webpage\n",
    "driver1.get(sf)\n",
    "\n",
    "# CLick the button to Export to open Export pop-up\n",
    "driver1.find_element(By.XPATH,\"//button[contains(text(),'Export')]\").click()\n",
    "\n",
    "# CLick the CSV button to begin download to Data folder\n",
    "driver1.find_element(By.XPATH,\"//body/main[@id='content']/div[1]/div[1]/div[1]/div[1]/div[1]/div[1]/div[1]/div[1]/div[2]/div[1]/div[2]/div[1]/section[1]/ul[1]/li[1]/a[1]\").click()\n",
    "\n",
    "# Imports CSV directly into folder, no elements to click because link is a direct csv download\n",
    "driver2.get(chicago)\n",
    "driver3.get(philly)"
   ]
  },
  {
   "cell_type": "code",
   "execution_count": 12,
   "id": "f1cf9f74-3d92-434c-b554-3e9fffa9154f",
   "metadata": {},
   "outputs": [],
   "source": [
    "# Close ONLY after you see the files in the Jupyter lab notebook turn from a 'crdownload' file into an actual CSV\n",
    "# CLosing before this can cause failure\n",
    "driver1.close()\n",
    "driver2.close()\n",
    "driver3.close()"
   ]
  }
 ],
 "metadata": {
  "kernelspec": {
   "display_name": "Python 3 (ipykernel)",
   "language": "python",
   "name": "python3"
  },
  "language_info": {
   "codemirror_mode": {
    "name": "ipython",
    "version": 3
   },
   "file_extension": ".py",
   "mimetype": "text/x-python",
   "name": "python",
   "nbconvert_exporter": "python",
   "pygments_lexer": "ipython3",
   "version": "3.7.10"
  }
 },
 "nbformat": 4,
 "nbformat_minor": 5
}
